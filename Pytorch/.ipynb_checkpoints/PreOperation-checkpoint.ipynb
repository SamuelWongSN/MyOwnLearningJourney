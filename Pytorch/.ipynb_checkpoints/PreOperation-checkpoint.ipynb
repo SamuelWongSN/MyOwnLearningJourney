{
 "cells": [
  {
   "cell_type": "code",
   "execution_count": 4,
   "metadata": {
    "executionInfo": {
     "elapsed": 1118,
     "status": "ok",
     "timestamp": 1604230627756,
     "user": {
      "displayName": "王思侬",
      "photoUrl": "",
      "userId": "07782393699071595163"
     },
     "user_tz": -480
    },
    "id": "X1awxhU6C0vs"
   },
   "outputs": [],
   "source": [
    "import cv2\n",
    "import os\n",
    "import numpy as np"
   ]
  },
  {
   "cell_type": "code",
   "execution_count": 5,
   "metadata": {
    "executionInfo": {
     "elapsed": 967,
     "status": "ok",
     "timestamp": 1604230631452,
     "user": {
      "displayName": "王思侬",
      "photoUrl": "",
      "userId": "07782393699071595163"
     },
     "user_tz": -480
    },
    "id": "rK2jmjpzNYu8"
   },
   "outputs": [],
   "source": [
    "def ext(pv):\n",
    "    if pv > 255:\n",
    "        return 255\n",
    "    if pv < 0:\n",
    "        return 0\n",
    "    else:\n",
    "        return pv\n",
    "\n",
    "# 高斯噪点的生成\n",
    "def gauss_noise(image):\n",
    "    h, w, ch = image.shape\n",
    "    for row in range(h):\n",
    "        for col in range(w):\n",
    "        \n",
    "        \t# numpy.random.normal(loc, scale, size)生成高斯分布的概率密度随机数\n",
    "        \t# loc：float代表生成的高斯分布的随机数的均值\n",
    "        \t# scale：float 代表这个分布的方差\n",
    "        \t# size：int or tuple of ints 输出的shape，默认为None，只输出一个值 \n",
    "        \t# 当指定整数时，输出整数个值，也可以输出（a, b）→ a 行 b 列\n",
    "            s = np.random.normal(0, 10, 3)\n",
    "            # 获取每一个像素的三个通道值\n",
    "            b = image[row, col, 0]\n",
    "            g = image[row, col, 1]\n",
    "            r = image[row, col, 2]\n",
    "            # 在每一个像素的三个通道值上加上高斯噪声\n",
    "            image[row, col, 0] = ext(b + s[0])\n",
    "            image[row, col, 1] = ext(g + s[1])\n",
    "            image[row, col, 2] = ext(r + s[2])"
   ]
  },
  {
   "cell_type": "code",
   "execution_count": 6,
   "metadata": {
    "executionInfo": {
     "elapsed": 908,
     "status": "ok",
     "timestamp": 1604235051819,
     "user": {
      "displayName": "王思侬",
      "photoUrl": "",
      "userId": "07782393699071595163"
     },
     "user_tz": -480
    },
    "id": "kJwMYvjKtTwe"
   },
   "outputs": [],
   "source": [
    "def chop_pic(origin_folder, target_folder, mode, chop_size=32, stride=14):\n",
    "    '''截取部分图片'''\n",
    "\n",
    "    imgs = os.listdir(origin_folder)                         # 读取原文件夹中文件名\n",
    "    imglist = [os.path.join(origin_folder, x) for x in imgs] # 生成文件路径列表\n",
    "    index = 0                # 生成文件名索引\n",
    "\n",
    "    for i in imglist:\n",
    "        img = cv2.imread(i)  # 读取图像\n",
    "        h, w = img.shape[:2] # 获得长宽\n",
    "#-----------------------------------------------------------------------\n",
    "        if mode == 1:\n",
    "            '''截取图片中间部分'''\n",
    "            height_m, weight_m = h // 2, w // 2\n",
    "            # 获得中间位置\n",
    "\n",
    "            if height_m >= chop_size_m and weight_m >= chop_size_m:\n",
    "                name = target_folder_path + '/img' + str(index) + '.png'\n",
    "                # 文件名\n",
    "                chop = img[(height_m-chop_size_m):(height_m+chop_size_m), \n",
    "                           (weight_m-chop_size_m):(weight_m+chop_size_m)]\n",
    "                # 剪裁后图像\n",
    "                cv2.imwrite(name, chop) # 新图像写入\n",
    "                index += 1              # 索引更新\n",
    "#-----------------------------------------------------------------------\n",
    "        if mode == 2:\n",
    "            '''按照目标像素和步长 截取所有的不重叠sub-image'''\n",
    "            h_num = h // chop_size # 获取height符合chop_size的数量\n",
    "            w_num = w // chop_size # 获取weight符合chop_size的数量\n",
    "\n",
    "            if h_num and w_num:\n",
    "                for m in range(h_num):\n",
    "                    for n in range(w_num):\n",
    "                        chop = img[m*chop_size:(m+1)*chop_size, \n",
    "                                   n*chop_size:(n+1)*chop_size]\n",
    "                        # 剪裁后图像\n",
    "                        name = target_folder + '/img' + str(index) + '.png'\n",
    "                        # 新图像路径文件名\n",
    "                        cv2.imwrite(name, chop) # 新图像写入\n",
    "                        index += 1              # 更新索引\n",
    "#------------------------------------------------------------------------\n",
    "        if mode == 3: \n",
    "            '''剪裁掉图像外围6像素边框'''\n",
    "            chop = img[6:h-6, 6:w-6] # 剪裁后图像\n",
    "            name = target_folder + '/img' + str(index) + '.png'\n",
    "            cv2.imwrite(name, chop)            # 新图像写入\n",
    "            index += 1                         # 更新索引\n",
    "#-------------------------------------------------------------------------\n",
    "        if mode == 4:\n",
    "            '''按照目标像素和步长 截取所有的包括重叠sub-image'''\n",
    "            h_end = chop_size       # 初始化高度终点\n",
    "            h_begin = 0             # 初始化高度起点\n",
    "            \n",
    "            while h_end<=h:\n",
    "                w_begin = 0         # 初始化宽度起点\n",
    "                w_end = chop_size   # 初始化宽度终点\n",
    "                while w_end<=w:\n",
    "                    chop = img[h_begin:h_end, w_begin:w_end]\n",
    "                    name = target_folder + '/img' + str(index) + '.png'\n",
    "                    cv2.imwrite(name, chop)\n",
    "                    index += 1      # 更新索引\n",
    "                    w_begin += stride #\n",
    "                    w_end += stride   #\n",
    "                h_begin += stride     #\n",
    "                h_end += stride       #更新宽度、高度"
   ]
  },
  {
   "cell_type": "code",
   "execution_count": 7,
   "metadata": {
    "executionInfo": {
     "elapsed": 907,
     "status": "ok",
     "timestamp": 1604230759162,
     "user": {
      "displayName": "王思侬",
      "photoUrl": "",
      "userId": "07782393699071595163"
     },
     "user_tz": -480
    },
    "id": "LB41xCAZDIIs"
   },
   "outputs": [],
   "source": [
    "def make_lr(original_picfolder_path, target_folder_path, times=2):\n",
    "    '''使用bicuic生成lr图片'''\n",
    "    \n",
    "    imgs = os.listdir(original_picfolder_path) # 读取原文件夹中所有文件名\n",
    "    imglist = [os.path.join(original_picfolder_path, x) for x in imgs]\n",
    "                                               # 生成文件 路径文件名列表\n",
    "    index = 0                   # 索引初始化\n",
    "    for path in imglist:\n",
    "        img = cv2.imread(path)  # 读取图像     \n",
    "        h, w = img.shape[:2]    # 获取图像高度、宽度\n",
    "        # gauss_noise(img)      # 加入高斯噪音\n",
    "        \n",
    "        img_lr = cv2.resize(img, (w//times, h//times))      # 图像缩小times倍\n",
    "        img_l2h = cv2.resize(img_lr, (w, h),\n",
    "                             interpolation=cv2.INTER_CUBIC) # 图像放大 by bicubic\n",
    "        name = target_folder_path + '/img' + str(index) + '.png'\n",
    "        cv2.imwrite(name, img_l2h)\n",
    "        index += 1"
   ]
  },
  {
   "cell_type": "code",
   "execution_count": 8,
   "metadata": {
    "executionInfo": {
     "elapsed": 1330543,
     "status": "ok",
     "timestamp": 1604232542612,
     "user": {
      "displayName": "王思侬",
      "photoUrl": "",
      "userId": "07782393699071595163"
     },
     "user_tz": -480
    },
    "id": "LdubXHSZl0kM"
   },
   "outputs": [],
   "source": [
    "ori = '/media/sinong/DATA/data/archive/T91'\n",
    "tar = '/media/sinong/DATA/data/archive/train_32'\n",
    "chop_pic(ori, tar, mode=4)"
   ]
  },
  {
   "cell_type": "code",
   "execution_count": 9,
   "metadata": {
    "executionInfo": {
     "elapsed": 142608,
     "status": "ok",
     "timestamp": 1604235196065,
     "user": {
      "displayName": "王思侬",
      "photoUrl": "",
      "userId": "07782393699071595163"
     },
     "user_tz": -480
    },
    "id": "e4W3yBGW10yK"
   },
   "outputs": [],
   "source": [
    "ori = '/media/sinong/DATA/data/archive/train_32'\n",
    "tar = '/media/sinong/DATA/data/archive/train_20'\n",
    "chop_pic(ori, tar, mode=3)"
   ]
  },
  {
   "cell_type": "code",
   "execution_count": 10,
   "metadata": {
    "executionInfo": {
     "elapsed": 427793,
     "status": "ok",
     "timestamp": 1604235853946,
     "user": {
      "displayName": "王思侬",
      "photoUrl": "",
      "userId": "07782393699071595163"
     },
     "user_tz": -480
    },
    "id": "9KRG5jC82ERp"
   },
   "outputs": [],
   "source": [
    "ori = '/media/sinong/DATA/data/archive/train_32'\n",
    "tar2 = '/media/sinong/DATA/data/archive/train_lrx2'\n",
    "tar3 = '/media/sinong/DATA/data/archive/train_lrx3'\n",
    "tar4 = '/media/sinong/DATA/data/archive/train_lrx4'\n",
    "make_lr(ori, tar2, times=2)\n",
    "make_lr(ori, tar3, times=3)\n",
    "make_lr(ori, tar4, times=4)"
   ]
  },
  {
   "cell_type": "code",
   "execution_count": null,
   "metadata": {},
   "outputs": [],
   "source": []
  }
 ],
 "metadata": {
  "colab": {
   "authorship_tag": "ABX9TyNSR7zSnoIQTnT9RdE3+dgT",
   "collapsed_sections": [],
   "mount_file_id": "1UN5yAOv3Cfe9p6fmDRjJRxPKSiDB6VS2",
   "name": "PreOperation.ipynb",
   "provenance": []
  },
  "kernelspec": {
   "display_name": "pytorch",
   "language": "python",
   "name": "pytorch"
  },
  "language_info": {
   "codemirror_mode": {
    "name": "ipython",
    "version": 3
   },
   "file_extension": ".py",
   "mimetype": "text/x-python",
   "name": "python",
   "nbconvert_exporter": "python",
   "pygments_lexer": "ipython3",
   "version": "3.6.12"
  }
 },
 "nbformat": 4,
 "nbformat_minor": 1
}
