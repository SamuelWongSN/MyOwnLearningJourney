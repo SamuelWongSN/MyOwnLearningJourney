{
 "cells": [
  {
   "cell_type": "code",
   "execution_count": 1,
   "metadata": {},
   "outputs": [],
   "source": [
    "import os\n",
    "import torch as t\n",
    "import torch.nn as nn\n",
    "import torch.nn.functional as F\n",
    "from torch.autograd import Variable as V\n",
    "from torch import optim\n",
    "from torch.utils.data import Dataset, DataLoader\n",
    "from torchvision import transforms as T\n",
    "from PIL import Image\n",
    "import numpy as np"
   ]
  },
  {
   "cell_type": "code",
   "execution_count": 2,
   "metadata": {},
   "outputs": [],
   "source": [
    "class SRCNN(nn.Module):\n",
    "    \n",
    "    def __init__(self):\n",
    "        \n",
    "        super(SRCNN, self).__init__()\n",
    "    \n",
    "        self.conv1 = nn.Conv2d(3, 64, 9, 1)\n",
    "        self.conv2 = nn.Conv2d(64, 32, 1 ,1)\n",
    "        self.conv3 = nn.Conv2d(32, 3, 5, 1)\n",
    "    \n",
    "    def forward(self, x):\n",
    "        \n",
    "        x = F.relu(self.conv1(x))\n",
    "        x = F.relu(self.conv2(x))\n",
    "        x = self.conv3(x)\n",
    "        return x"
   ]
  },
  {
   "cell_type": "code",
   "execution_count": 3,
   "metadata": {},
   "outputs": [],
   "source": [
    "transform = T.Compose([T.ToTensor(),\n",
    "                      T.Normalize(mean=[.5, .5, .5], std=[.5, .5, .5])])"
   ]
  },
  {
   "cell_type": "code",
   "execution_count": 4,
   "metadata": {},
   "outputs": [],
   "source": [
    "class Mydata(Dataset):\n",
    "    \n",
    "    def __init__(self, root, transforms=None):\n",
    "        \n",
    "        X_imgs = os.listdir(root + '\\\\lr')\n",
    "        L_imgs = os.listdir(root + '\\\\hr6')\n",
    "        self.X_imgs = [os.path.join(root+'\\\\lr', x) for x in X_imgs]\n",
    "        self.L_imgs = [os.path.join(root+'\\\\hr6', x) for x in L_imgs]\n",
    "        self.transforms = transforms\n",
    "        \n",
    "    def __getitem__(self, index):\n",
    "        \n",
    "        X_img_path = self.X_imgs[index]\n",
    "        L_img_path = self.L_imgs[index]\n",
    "        label = Image.open(L_img_path)\n",
    "        data = Image.open(X_img_path)\n",
    "        \n",
    "        if self.transforms:\n",
    "            data = self.transforms(data)\n",
    "            label = self.transforms(label)\n",
    "            \n",
    "        return data, label\n",
    "    \n",
    "    def __len__(self):\n",
    "        \n",
    "        return len(self.X_imgs)"
   ]
  },
  {
   "cell_type": "code",
   "execution_count": 5,
   "metadata": {},
   "outputs": [],
   "source": [
    "mysrcnn = SRCNN()\n",
    "root = 'D:\\\\data\\\\archive\\\\train'\n",
    "\n",
    "mydata = Mydata(root, transform)\n",
    "mydataloader = DataLoader(mydata, batch_size=4, shuffle=True, num_workers=0)\n",
    "\n",
    "criterion = nn.MSELoss()\n",
    "optimizer = optim.SGD(mysrcnn.parameters(), lr=0.01, momentum=0.9, weight_decay=0.01)"
   ]
  },
  {
   "cell_type": "code",
   "execution_count": 6,
   "metadata": {},
   "outputs": [],
   "source": [
    "epochs = 20"
   ]
  },
  {
   "cell_type": "code",
   "execution_count": 7,
   "metadata": {},
   "outputs": [
    {
     "name": "stdout",
     "output_type": "stream",
     "text": [
      "[1,   1] loss: 0.376\n",
      "[1, 101] loss: 0.016\n",
      "[2,   1] loss: 0.012\n",
      "[2, 101] loss: 0.015\n",
      "[3,   1] loss: 0.014\n",
      "[3, 101] loss: 0.011\n",
      "[4,   1] loss: 0.006\n",
      "[4, 101] loss: 0.024\n",
      "[5,   1] loss: 0.004\n",
      "[5, 101] loss: 0.008\n",
      "[6,   1] loss: 0.008\n",
      "[6, 101] loss: 0.012\n",
      "[7,   1] loss: 0.016\n",
      "[7, 101] loss: 0.006\n",
      "[8,   1] loss: 0.011\n",
      "[8, 101] loss: 0.009\n",
      "[9,   1] loss: 0.009\n",
      "[9, 101] loss: 0.018\n",
      "[10,   1] loss: 0.011\n",
      "[10, 101] loss: 0.004\n",
      "[11,   1] loss: 0.019\n",
      "[11, 101] loss: 0.009\n",
      "[12,   1] loss: 0.012\n",
      "[12, 101] loss: 0.015\n",
      "[13,   1] loss: 0.005\n",
      "[13, 101] loss: 0.016\n",
      "[14,   1] loss: 0.018\n",
      "[14, 101] loss: 0.007\n",
      "[15,   1] loss: 0.010\n",
      "[15, 101] loss: 0.012\n",
      "[16,   1] loss: 0.022\n",
      "[16, 101] loss: 0.010\n",
      "[17,   1] loss: 0.012\n",
      "[17, 101] loss: 0.018\n",
      "[18,   1] loss: 0.006\n",
      "[18, 101] loss: 0.016\n",
      "[19,   1] loss: 0.016\n",
      "[19, 101] loss: 0.017\n",
      "[20,   1] loss: 0.003\n",
      "[20, 101] loss: 0.022\n",
      "Finished\n"
     ]
    }
   ],
   "source": [
    "for epoch in range(epochs):\n",
    "    \n",
    "    loss = 0.0\n",
    "    for i, data in enumerate(mydataloader, 0):\n",
    "        inputs, labels = data\n",
    "        inputs, labels = V(inputs), V(labels)\n",
    "        \n",
    "        optimizer.zero_grad()\n",
    "        \n",
    "        outputs = mysrcnn(inputs)\n",
    "        loss = criterion(outputs, labels)\n",
    "        loss.backward()\n",
    "        \n",
    "        optimizer.step()\n",
    "        \n",
    "        if i % 100 == 0:\n",
    "            print('[%d, %3d] loss: %.3f' % (epoch+1, i+1, loss.data.item()))\n",
    "print('Finished')"
   ]
  },
  {
   "cell_type": "code",
   "execution_count": 8,
   "metadata": {},
   "outputs": [],
   "source": [
    "class Mytestdata(Dataset):\n",
    "    \n",
    "    def __init__(self, root, transforms=None):\n",
    "        \n",
    "        X_imgs = os.listdir(root + '\\\\lr')\n",
    "        self.X_imgs = [os.path.join(root+'\\\\lr', x) for x in X_imgs]\n",
    "        self.transforms = transforms\n",
    "        \n",
    "    def __getitem__(self, index):\n",
    "        \n",
    "        X_img_path = self.X_imgs[index]\n",
    "        data = Image.open(X_img_path)\n",
    "        \n",
    "        if self.transforms:\n",
    "            data = self.transforms(data)\n",
    "            \n",
    "        return data\n",
    "    \n",
    "    def __len__(self):\n",
    "        \n",
    "        return len(self.X_imgs)"
   ]
  },
  {
   "cell_type": "code",
   "execution_count": 9,
   "metadata": {},
   "outputs": [],
   "source": [
    "root2 = 'D:\\\\data\\\\archive\\\\test'\n",
    "testdata = Mytestdata(root2, transform)\n",
    "testloader = DataLoader(testdata, batch_size = 1, shuffle=False, num_workers=0)\n",
    "\n",
    "show = T.ToPILImage()\n",
    "for i, data in enumerate(testloader, 0):\n",
    "    input = V(data)\n",
    "    output = mysrcnn(input)\n",
    "    img = show((output.squeeze()+1)/2).resize((80, 80))\n",
    "    path = 'D:\\\\data\\\\archive\\\\test\\\\SRCNN\\\\'\n",
    "    img.save(path+'img'+str(500+i)+'.png')"
   ]
  },
  {
   "cell_type": "code",
   "execution_count": 18,
   "metadata": {},
   "outputs": [],
   "source": [
    "(data, label) = mydata[100]\n",
    "out = mysrcnn(data.unsqueeze(0))\n",
    "show = T.ToPILImage()\n",
    "img = show((out.squeeze()+1)/2).resize((80, 80))\n",
    "img.save('D:\\\\data\\\\archive\\\\test\\\\SRCNN\\\\test.png')"
   ]
  },
  {
   "cell_type": "code",
   "execution_count": null,
   "metadata": {},
   "outputs": [],
   "source": []
  }
 ],
 "metadata": {
  "kernelspec": {
   "display_name": "pytorch",
   "language": "python",
   "name": "pytorch"
  },
  "language_info": {
   "codemirror_mode": {
    "name": "ipython",
    "version": 3
   },
   "file_extension": ".py",
   "mimetype": "text/x-python",
   "name": "python",
   "nbconvert_exporter": "python",
   "pygments_lexer": "ipython3",
   "version": "3.6.10"
  }
 },
 "nbformat": 4,
 "nbformat_minor": 4
}
