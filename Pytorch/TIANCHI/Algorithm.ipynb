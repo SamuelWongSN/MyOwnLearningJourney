{
 "cells": [
  {
   "cell_type": "code",
   "execution_count": 1,
   "metadata": {},
   "outputs": [],
   "source": [
    "import torch as t\n",
    "import numpy as np\n",
    "import torch.nn as nn\n",
    "import torch.nn.functional as F\n",
    "\n",
    "from torch import optim\n",
    "from torch.utils.data import Dataset, DataLoader\n",
    "from torch.autograd import Variable"
   ]
  },
  {
   "cell_type": "code",
   "execution_count": 2,
   "metadata": {},
   "outputs": [],
   "source": [
    "class traindata(Dataset):\n",
    "    def __init__(self):\n",
    "        xy = np.loadtxt('train.csv', dtype='int', delimiter=',')\n",
    "        '''\n",
    "        li = [0, 5, 8, 10, 22]\n",
    "        for i in li:\n",
    "            xy[:, i] = xy[:, i] / 100\n",
    "        '''\n",
    "        self.y_data = t.from_numpy(xy[:, 11])\n",
    "        xy = np.delete(xy, 11, axis=1)\n",
    "        self.x_data = t.from_numpy(xy)\n",
    "        self.len = xy.shape[0]\n",
    "        \n",
    "    def __getitem__(self, index):\n",
    "        return self.x_data[index], self.y_data[index]\n",
    "    \n",
    "    def __len__(self):\n",
    "        return self.len"
   ]
  },
  {
   "cell_type": "code",
   "execution_count": 3,
   "metadata": {},
   "outputs": [],
   "source": [
    "class Net(nn.Module):\n",
    "    def __init__(self):\n",
    "        super(Net, self).__init__()\n",
    "        self.fn1 = nn.Linear(43, 5)\n",
    "        self.fn2 = nn.Linear(5, 5)\n",
    "        #self.fn3 = nn.Linear(5, 5)\n",
    "        #self.fn4 = nn.Linear(5, 5)\n",
    "        self.fn5 = nn.Linear(5, 1)\n",
    "        \n",
    "    def forward(self, x):\n",
    "        x = x.view(x.size()[0], -1)\n",
    "        x = t.sigmoid(self.fn1(x))\n",
    "        x = t.sigmoid(self.fn2(x))\n",
    "        #x = t.sigmoid(self.fn3(x))\n",
    "        #x = t.sigmoid(self.fn4(x))\n",
    "        x = self.fn5(x)\n",
    "        return x"
   ]
  },
  {
   "cell_type": "code",
   "execution_count": 4,
   "metadata": {},
   "outputs": [],
   "source": [
    "net = Net()\n",
    "criterion = nn.MSELoss(reduction='mean')\n",
    "optimizer = optim.Adam(net.parameters(), lr=0.00001)"
   ]
  },
  {
   "cell_type": "code",
   "execution_count": 5,
   "metadata": {},
   "outputs": [],
   "source": [
    "mytraindata = traindata()\n",
    "trainloader = DataLoader(dataset = mytraindata, batch_size = 32, shuffle = True, num_workers = 0)"
   ]
  },
  {
   "cell_type": "code",
   "execution_count": 6,
   "metadata": {
    "scrolled": true
   },
   "outputs": [
    {
     "name": "stdout",
     "output_type": "stream",
     "text": [
      "[1,  4000] loss: 7.555\n",
      "[1,  8000] loss: 5.188\n",
      "[1, 12000] loss: 3.835\n",
      "[1, 16000] loss: 3.276\n",
      "[1, 20000] loss: 3.141\n",
      "[2,  4000] loss: 3.154\n",
      "[2,  8000] loss: 3.127\n",
      "[2, 12000] loss: 3.135\n",
      "[2, 16000] loss: 3.159\n",
      "[2, 20000] loss: 3.131\n",
      "[3,  4000] loss: 3.152\n",
      "[3,  8000] loss: 3.137\n",
      "[3, 12000] loss: 3.160\n",
      "[3, 16000] loss: 3.132\n",
      "[3, 20000] loss: 3.135\n",
      "[4,  4000] loss: 3.158\n",
      "[4,  8000] loss: 3.113\n",
      "[4, 12000] loss: 3.163\n",
      "[4, 16000] loss: 3.118\n",
      "[4, 20000] loss: 3.140\n",
      "[5,  4000] loss: 3.129\n",
      "[5,  8000] loss: 3.163\n",
      "[5, 12000] loss: 3.140\n",
      "[5, 16000] loss: 3.120\n",
      "[5, 20000] loss: 3.146\n",
      "[6,  4000] loss: 3.133\n",
      "[6,  8000] loss: 3.143\n",
      "[6, 12000] loss: 3.135\n",
      "[6, 16000] loss: 3.143\n",
      "[6, 20000] loss: 3.141\n",
      "Finished\n"
     ]
    }
   ],
   "source": [
    "for epoch in range(6):\n",
    "    \n",
    "\n",
    "    running_loss = 0.0\n",
    "    for i, data in enumerate(trainloader, 0):\n",
    "        \n",
    "        \n",
    "        inputs, labels = data\n",
    "        inputs = Variable(inputs).float()\n",
    "        labels = Variable(labels.float()).view(labels.shape[0], -1)\n",
    " \n",
    "        optimizer.zero_grad()\n",
    "        \n",
    "        outputs = net(inputs)\n",
    "        loss = criterion(outputs, labels)\n",
    "        loss.backward()\n",
    "        \n",
    "        optimizer.step()\n",
    "        \n",
    "        running_loss += loss.data.item()\n",
    "        if i % 4000 == 3999:\n",
    "            print('[%d, %5d] loss: %.3f' % (epoch+1, i+1, running_loss/200))\n",
    "            running_loss = 0.0\n",
    "print('Finished')\n"
   ]
  },
  {
   "cell_type": "code",
   "execution_count": 7,
   "metadata": {},
   "outputs": [],
   "source": [
    "class Testdata(Dataset):\n",
    "    def __init__(self):\n",
    "        xy = np.loadtxt('test.csv', dtype='int', delimiter=',')\n",
    "        \n",
    "        self.x_data = t.from_numpy(xy)\n",
    "        self.len = xy.shape[0]\n",
    "        \n",
    "    def __getitem__(self, index):\n",
    "        return self.x_data[index]\n",
    "    \n",
    "    def __len__(self):\n",
    "        return self.len"
   ]
  },
  {
   "cell_type": "code",
   "execution_count": 8,
   "metadata": {},
   "outputs": [],
   "source": [
    "mytestdata = Testdata()\n",
    "testloader = DataLoader(dataset = mytestdata, batch_size = 1, shuffle = False, num_workers = 0)"
   ]
  },
  {
   "cell_type": "code",
   "execution_count": 17,
   "metadata": {},
   "outputs": [],
   "source": [
    "pred = []\n",
    "for i, data in enumerate(testloader, 0):\n",
    "    x = data\n",
    "    outputs = net(Variable(x).float())\n",
    "    pred.append(outputs.data[0])\n",
    "pred = t.Tensor(pred)\n",
    "    "
   ]
  },
  {
   "cell_type": "code",
   "execution_count": 19,
   "metadata": {},
   "outputs": [
    {
     "name": "stdout",
     "output_type": "stream",
     "text": [
      "torch.Size([200000, 1]) torch.Size([200000])\n"
     ]
    },
    {
     "data": {
      "text/plain": [
       "torch.Size([200000, 2])"
      ]
     },
     "execution_count": 19,
     "metadata": {},
     "output_type": "execute_result"
    }
   ],
   "source": [
    "idd = t.arange(800000, 1000000).view(-1, 1)\n",
    "print(idd.shape, pred.shape)\n",
    "pred = t.cat([idd, pred.view(-1, 1)], dim = 1)\n",
    "pred.shape"
   ]
  },
  {
   "cell_type": "code",
   "execution_count": 20,
   "metadata": {
    "scrolled": true
   },
   "outputs": [],
   "source": [
    "np.savetxt('pred2.csv', pred, fmt = '%.4f', delimiter=',')"
   ]
  },
  {
   "cell_type": "code",
   "execution_count": 21,
   "metadata": {},
   "outputs": [
    {
     "data": {
      "text/plain": [
       "tensor([[False],\n",
       "        [False],\n",
       "        [False],\n",
       "        ...,\n",
       "        [False],\n",
       "        [False],\n",
       "        [False]])"
      ]
     },
     "execution_count": 21,
     "metadata": {},
     "output_type": "execute_result"
    }
   ],
   "source": [
    "pred>0.3"
   ]
  },
  {
   "cell_type": "code",
   "execution_count": null,
   "metadata": {},
   "outputs": [],
   "source": []
  }
 ],
 "metadata": {
  "kernelspec": {
   "display_name": "pytorch",
   "language": "python",
   "name": "pytorch"
  },
  "language_info": {
   "codemirror_mode": {
    "name": "ipython",
    "version": 3
   },
   "file_extension": ".py",
   "mimetype": "text/x-python",
   "name": "python",
   "nbconvert_exporter": "python",
   "pygments_lexer": "ipython3",
   "version": "3.6.10"
  }
 },
 "nbformat": 4,
 "nbformat_minor": 4
}
