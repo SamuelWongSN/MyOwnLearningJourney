{
 "cells": [
  {
   "cell_type": "code",
   "execution_count": 3,
   "metadata": {},
   "outputs": [],
   "source": [
    "import torch as t\n",
    "import numpy as np\n",
    "from torch.utils.data import Dataset, DataLoader\n",
    "from torch.autograd import Variable\n",
    "\n"
   ]
  },
  {
   "cell_type": "code",
   "execution_count": 6,
   "metadata": {},
   "outputs": [],
   "source": [
    "class Mydata(Dataset):\n",
    "    def __init(self):\n",
    "        self.path = 'D:\\\\data\\\\TIANCHI\\\\GreenHand\\\\train.csv'\n",
    "        self.data = np.loadtxt(filepath,skiprows=1,dtype=str,delimiter=',')\n",
    "        try:\n",
    "            self.data = self.data.float()\n",
    "        except:\n",
    "            pass\n",
    "        print(self.data[0][0])"
   ]
  },
  {
   "cell_type": "code",
   "execution_count": 7,
   "metadata": {},
   "outputs": [],
   "source": [
    "data = Mydata()\n"
   ]
  },
  {
   "cell_type": "code",
   "execution_count": null,
   "metadata": {},
   "outputs": [],
   "source": []
  },
  {
   "cell_type": "code",
   "execution_count": 8,
   "metadata": {
    "scrolled": true
   },
   "outputs": [
    {
     "name": "stdout",
     "output_type": "stream",
     "text": [
      "35000.0\n"
     ]
    }
   ],
   "source": [
    "# set trainning set\n",
    "filepath = 'D:\\\\data\\\\TIANCHI\\\\GreenHand\\\\train.csv'\n",
    "train_X = np.loadtxt(filepath,skiprows=1,dtype=str,delimiter=',')\n",
    "train_X = train_X[:,1:]\n",
    "train_X.shape\n",
    "try:\n",
    "    train_X = train_X.float()\n",
    "except:\n",
    "    pass\n",
    "print(train_X[0][0])"
   ]
  },
  {
   "cell_type": "code",
   "execution_count": 15,
   "metadata": {},
   "outputs": [
    {
     "name": "stdout",
     "output_type": "stream",
     "text": [
      "\n"
     ]
    }
   ],
   "source": [
    "print(train_X[120][45])"
   ]
  },
  {
   "cell_type": "code",
   "execution_count": 25,
   "metadata": {},
   "outputs": [
    {
     "data": {
      "text/plain": [
       "(686195, 46)"
      ]
     },
     "execution_count": 25,
     "metadata": {},
     "output_type": "execute_result"
    }
   ],
   "source": [
    "b = np.all(train_X != '', axis = 1)\n",
    "c = train_X[b,:]\n",
    "c.shape"
   ]
  },
  {
   "cell_type": "code",
   "execution_count": 27,
   "metadata": {},
   "outputs": [],
   "source": [
    "c = np.delete(c, 4, axis=1)"
   ]
  },
  {
   "cell_type": "code",
   "execution_count": 28,
   "metadata": {},
   "outputs": [
    {
     "data": {
      "text/plain": [
       "array(['35000.0', '5', '19.52', '917.97', 'E2', '320.0', '2 years', '2',\n",
       "       '110000.0', '2', '2014-07-01', '1', '1', '137.0', '32', '17.05',\n",
       "       '0.0', '730.0', '734.0', '7.0', '0.0', '0.0', '24178.0', '48.9',\n",
       "       '27.0', '0', '0', 'Aug-2001', '1.0', '1.0', '0.0', '2.0', '2.0',\n",
       "       '2.0', '4.0', '9.0', '8.0', '4.0', '12.0', '2.0', '7.0', '0.0',\n",
       "       '0.0', '0.0', '2.0'], dtype='<U10')"
      ]
     },
     "execution_count": 28,
     "metadata": {},
     "output_type": "execute_result"
    }
   ],
   "source": [
    "c[0, :]"
   ]
  },
  {
   "cell_type": "code",
   "execution_count": null,
   "metadata": {},
   "outputs": [],
   "source": []
  }
 ],
 "metadata": {
  "kernelspec": {
   "display_name": "pytorch",
   "language": "python",
   "name": "pytorch"
  },
  "language_info": {
   "codemirror_mode": {
    "name": "ipython",
    "version": 3
   },
   "file_extension": ".py",
   "mimetype": "text/x-python",
   "name": "python",
   "nbconvert_exporter": "python",
   "pygments_lexer": "ipython3",
   "version": "3.6.10"
  }
 },
 "nbformat": 4,
 "nbformat_minor": 4
}
