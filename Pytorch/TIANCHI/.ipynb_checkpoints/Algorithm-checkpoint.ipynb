{
 "cells": [
  {
   "cell_type": "code",
   "execution_count": 1,
   "metadata": {},
   "outputs": [],
   "source": [
    "import torch as t\n",
    "import numpy as np\n",
    "import torch.nn as nn\n",
    "import torch.nn.functional as F\n",
    "\n",
    "from torch import optim\n",
    "from torch.utils.data import Dataset, DataLoader\n",
    "from torch.autograd import Variable"
   ]
  },
  {
   "cell_type": "code",
   "execution_count": 2,
   "metadata": {},
   "outputs": [],
   "source": [
    "class traindata(Dataset):\n",
    "    def __init__(self):\n",
    "        xy = np.loadtxt('train.csv', dtype='float')\n",
    "        self.y_data = t.from_numpy(xy[:, 11])\n",
    "        xy = np.delete(xy, 11, axis=1)\n",
    "        self.x_data = t.from_numpy(xy)\n",
    "        self.len = xy.shape[0]\n",
    "        \n",
    "    def __getitem__(self, index):\n",
    "        return self.x_data[index], self.y_data[index]\n",
    "    \n",
    "    def __len__(self):\n",
    "        return self.len"
   ]
  },
  {
   "cell_type": "code",
   "execution_count": 3,
   "metadata": {},
   "outputs": [],
   "source": [
    "class Net(nn.Module):\n",
    "    def __init__(self):\n",
    "        super(Net, self).__init__()\n",
    "        self.fn1 = nn.Linear(43, 20)\n",
    "        self.fn2 = nn.Linear(20, 10)\n",
    "        self.fn3 = nn.Linear(10, 1)\n",
    "        \n",
    "    def forward(self, x):\n",
    "        x = x.view(x.size()[0], -1)\n",
    "        x = F.sigmoid(self.fn1(x))\n",
    "        x = F.sigmoid(self.fn2(x))\n",
    "        x = F.sigmoid(self.fn3(x))\n",
    "        return x"
   ]
  },
  {
   "cell_type": "code",
   "execution_count": 11,
   "metadata": {},
   "outputs": [],
   "source": [
    "net = Net()\n",
    "criterion = nn.MSELoss()\n",
    "optimizer = optim.SGD(net.parameters(), lr=0.00001, momentum=0.9)"
   ]
  },
  {
   "cell_type": "code",
   "execution_count": 9,
   "metadata": {},
   "outputs": [],
   "source": [
    "mytraindata = traindata()\n",
    "trainloader = DataLoader(dataset = mytraindata, batch_size = 32, shuffle = True, num_workers = 0)"
   ]
  },
  {
   "cell_type": "code",
   "execution_count": 12,
   "metadata": {
    "scrolled": true
   },
   "outputs": [
    {
     "name": "stdout",
     "output_type": "stream",
     "text": [
      "[1,  4000] loss: 5.066\n",
      "[1,  8000] loss: 4.371\n",
      "[1, 12000] loss: 3.942\n",
      "[1, 16000] loss: 3.678\n",
      "[1, 20000] loss: 3.518\n",
      "[2,  4000] loss: 3.384\n",
      "[2,  8000] loss: 3.312\n",
      "[2, 12000] loss: 3.242\n",
      "[2, 16000] loss: 3.233\n",
      "[2, 20000] loss: 3.201\n",
      "[3,  4000] loss: 3.176\n",
      "[3,  8000] loss: 3.203\n",
      "[3, 12000] loss: 3.154\n",
      "[3, 16000] loss: 3.174\n",
      "[3, 20000] loss: 3.157\n",
      "[4,  4000] loss: 3.154\n",
      "[4,  8000] loss: 3.161\n",
      "[4, 12000] loss: 3.148\n",
      "[4, 16000] loss: 3.156\n",
      "[4, 20000] loss: 3.122\n",
      "[5,  4000] loss: 3.132\n",
      "[5,  8000] loss: 3.143\n",
      "[5, 12000] loss: 3.120\n",
      "[5, 16000] loss: 3.152\n",
      "[5, 20000] loss: 3.157\n",
      "Finished\n"
     ]
    }
   ],
   "source": [
    "for epoch in range(5):\n",
    "    \n",
    "\n",
    "    running_loss = 0.0\n",
    "    for i, data in enumerate(trainloader, 0):\n",
    "        \n",
    "        \n",
    "        inputs, labels = data\n",
    "        inputs = Variable(inputs).float()\n",
    "        labels = Variable(labels).float()\n",
    " \n",
    "        optimizer.zero_grad()\n",
    "        \n",
    "        outputs = net(inputs)\n",
    "        loss = criterion(outputs, labels)\n",
    "        loss.backward()\n",
    "        \n",
    "        optimizer.step()\n",
    "        \n",
    "        running_loss += loss.data.item()\n",
    "        if i % 4000 == 3999:\n",
    "            print('[%d, %5d] loss: %.3f' % (epoch+1, i+1, running_loss/200))\n",
    "            running_loss = 0.0\n",
    "print('Finished')\n"
   ]
  },
  {
   "cell_type": "code",
   "execution_count": 21,
   "metadata": {},
   "outputs": [],
   "source": [
    "class Testdata(Dataset):\n",
    "    def __init__(self):\n",
    "        xy = np.loadtxt('test.csv', dtype='float')\n",
    "        \n",
    "        self.x_data = t.from_numpy(xy)\n",
    "        self.len = xy.shape[0]\n",
    "        \n",
    "    def __getitem__(self, index):\n",
    "        return self.x_data[index]\n",
    "    \n",
    "    def __len__(self):\n",
    "        return self.len"
   ]
  },
  {
   "cell_type": "code",
   "execution_count": 22,
   "metadata": {},
   "outputs": [],
   "source": [
    "mytestdata = Testdata()\n",
    "testloader = DataLoader(dataset = mytestdata, batch_size = 32, shuffle = False, num_workers = 0)"
   ]
  },
  {
   "cell_type": "code",
   "execution_count": 30,
   "metadata": {},
   "outputs": [],
   "source": [
    "pred = t.Tensor(200000, 1)\n",
    "for i, data in enumerate(testloader, 0):\n",
    "    x = data\n",
    "    outputs = net(Variable(x).float())\n",
    "    pred[i] = outputs.data[0]\n",
    "    "
   ]
  },
  {
   "cell_type": "code",
   "execution_count": 35,
   "metadata": {},
   "outputs": [
    {
     "data": {
      "text/plain": [
       "tensor([[-5.0996e-26],\n",
       "        [ 9.8651e-43],\n",
       "        [-5.0996e-26],\n",
       "        [ 9.8651e-43],\n",
       "        [-5.0996e-26],\n",
       "        [ 9.8651e-43],\n",
       "        [-5.0996e-26],\n",
       "        [ 9.8651e-43],\n",
       "        [-5.0997e-26],\n",
       "        [ 9.8651e-43],\n",
       "        [-5.0997e-26],\n",
       "        [ 9.8651e-43],\n",
       "        [-5.0997e-26],\n",
       "        [ 9.8651e-43],\n",
       "        [-5.0997e-26],\n",
       "        [ 9.8651e-43],\n",
       "        [-5.0997e-26],\n",
       "        [ 9.8651e-43],\n",
       "        [-5.0997e-26],\n",
       "        [ 9.8651e-43]])"
      ]
     },
     "execution_count": 35,
     "metadata": {},
     "output_type": "execute_result"
    }
   ],
   "source": [
    "pred[10000:10020]"
   ]
  },
  {
   "cell_type": "code",
   "execution_count": null,
   "metadata": {},
   "outputs": [],
   "source": []
  }
 ],
 "metadata": {
  "kernelspec": {
   "display_name": "pytorch",
   "language": "python",
   "name": "pytorch"
  },
  "language_info": {
   "codemirror_mode": {
    "name": "ipython",
    "version": 3
   },
   "file_extension": ".py",
   "mimetype": "text/x-python",
   "name": "python",
   "nbconvert_exporter": "python",
   "pygments_lexer": "ipython3",
   "version": "3.6.10"
  }
 },
 "nbformat": 4,
 "nbformat_minor": 4
}
