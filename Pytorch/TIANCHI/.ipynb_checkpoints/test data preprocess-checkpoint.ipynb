{
 "cells": [
  {
   "cell_type": "code",
   "execution_count": 1,
   "metadata": {},
   "outputs": [],
   "source": [
    "import torch as t\n",
    "import numpy as np"
   ]
  },
  {
   "cell_type": "code",
   "execution_count": 2,
   "metadata": {},
   "outputs": [
    {
     "data": {
      "text/plain": [
       "(200000, 45)"
      ]
     },
     "execution_count": 2,
     "metadata": {},
     "output_type": "execute_result"
    }
   ],
   "source": [
    "filepath = 'D:\\\\data\\\\TIANCHI\\\\GreenHand\\\\testA.csv'\n",
    "test_X = np.loadtxt(filepath, skiprows=1, dtype=str, delimiter=',')\n",
    "test_X = test_X[:,1:]\n",
    "test_X.shape"
   ]
  },
  {
   "cell_type": "code",
   "execution_count": 3,
   "metadata": {},
   "outputs": [
    {
     "data": {
      "text/plain": [
       "(200000, 43)"
      ]
     },
     "execution_count": 3,
     "metadata": {},
     "output_type": "execute_result"
    }
   ],
   "source": [
    "test_X = np.delete(test_X, 4, axis=1)\n",
    "test_X = np.delete(test_X, 26, axis=1)\n",
    "test_X.shape"
   ]
  },
  {
   "cell_type": "code",
   "execution_count": 15,
   "metadata": {},
   "outputs": [],
   "source": [
    "for i in range(test_X.shape[0]):\n",
    "    for j in range(test_X.shape[1]):\n",
    "        if test_X[i, j] == '':\n",
    "            test_X[i, j] = '0'"
   ]
  },
  {
   "cell_type": "code",
   "execution_count": 4,
   "metadata": {},
   "outputs": [
    {
     "data": {
      "text/plain": [
       "(200000, 43)"
      ]
     },
     "execution_count": 4,
     "metadata": {},
     "output_type": "execute_result"
    }
   ],
   "source": [
    "list1 = []\n",
    "for i in ['A', 'B', 'C', 'D', 'E', 'F', 'G']:\n",
    "    for j in ['1', '2', '3', '4', '5']:\n",
    "        list1.append(i+j)\n",
    "list2 = range(70, 0, -2)\n",
    "dic = dict(zip(list1, list2))\n",
    "\n",
    "for i in range(test_X.shape[0]):\n",
    "    test_X[i, 4] = dic[test_X[i, 4]]\n",
    "test_X.shape"
   ]
  },
  {
   "cell_type": "code",
   "execution_count": 16,
   "metadata": {},
   "outputs": [
    {
     "data": {
      "text/plain": [
       "(200000, 43)"
      ]
     },
     "execution_count": 16,
     "metadata": {},
     "output_type": "execute_result"
    }
   ],
   "source": [
    "import re\n",
    "for i in range(test_X.shape[0]):\n",
    "    test_X[i, 6] = re.findall('\\d+', test_X[i, 6])[0]\n",
    "test_X.shape"
   ]
  },
  {
   "cell_type": "code",
   "execution_count": 17,
   "metadata": {},
   "outputs": [],
   "source": [
    "shou = []\n",
    "for i in range(test_X.shape[0]):\n",
    "    b = test_X[i, 10].split('-')\n",
    "    s = [1, 1, 1]\n",
    "    for i in range(len(b)):\n",
    "        s[i] = int(b[i])\n",
    "    num = (2020-int(s[0]))*365 + 30 * (12 - int(s[1])) + 30 - int(s[2])\n",
    "    shou.append(num)\n",
    "shou = np.array(shou)\n",
    "test_X[:, 10] = shou"
   ]
  },
  {
   "cell_type": "code",
   "execution_count": 18,
   "metadata": {},
   "outputs": [],
   "source": [
    "test_X = test_X.astype(np.float)"
   ]
  },
  {
   "cell_type": "code",
   "execution_count": 19,
   "metadata": {},
   "outputs": [],
   "source": [
    "np.savetxt('test.csv', test_X, fmt = '%f')"
   ]
  },
  {
   "cell_type": "code",
   "execution_count": null,
   "metadata": {},
   "outputs": [],
   "source": []
  }
 ],
 "metadata": {
  "kernelspec": {
   "display_name": "pytorch",
   "language": "python",
   "name": "pytorch"
  },
  "language_info": {
   "codemirror_mode": {
    "name": "ipython",
    "version": 3
   },
   "file_extension": ".py",
   "mimetype": "text/x-python",
   "name": "python",
   "nbconvert_exporter": "python",
   "pygments_lexer": "ipython3",
   "version": "3.6.10"
  }
 },
 "nbformat": 4,
 "nbformat_minor": 4
}
