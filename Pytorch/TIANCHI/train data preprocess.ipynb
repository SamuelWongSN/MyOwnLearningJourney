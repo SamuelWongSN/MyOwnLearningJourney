{
 "cells": [
  {
   "cell_type": "code",
   "execution_count": 1,
   "metadata": {},
   "outputs": [],
   "source": [
    "import torch as t\n",
    "import numpy as np\n",
    "from torch.utils.data import Dataset, DataLoader\n",
    "from torch.autograd import Variable\n",
    "\n"
   ]
  },
  {
   "cell_type": "code",
   "execution_count": 2,
   "metadata": {
    "scrolled": true
   },
   "outputs": [
    {
     "data": {
      "text/plain": [
       "(800000, 46)"
      ]
     },
     "execution_count": 2,
     "metadata": {},
     "output_type": "execute_result"
    }
   ],
   "source": [
    "# set trainning set\n",
    "filepath = 'D:\\\\data\\\\TIANCHI\\\\GreenHand\\\\train.csv'\n",
    "train_X = np.loadtxt(filepath, skiprows=1, dtype=str, delimiter=',')\n",
    "train_X = train_X[:,1:]\n",
    "train_X.shape"
   ]
  },
  {
   "cell_type": "code",
   "execution_count": 3,
   "metadata": {},
   "outputs": [
    {
     "data": {
      "text/plain": [
       "(686195, 46)"
      ]
     },
     "execution_count": 3,
     "metadata": {},
     "output_type": "execute_result"
    }
   ],
   "source": [
    "b = np.all(train_X != '', axis = 1)\n",
    "train_X = train_X[b,:]\n",
    "train_X.shape"
   ]
  },
  {
   "cell_type": "code",
   "execution_count": 4,
   "metadata": {},
   "outputs": [],
   "source": [
    "train_X = np.delete(train_X, 4, axis=1)"
   ]
  },
  {
   "cell_type": "code",
   "execution_count": 5,
   "metadata": {},
   "outputs": [
    {
     "data": {
      "text/plain": [
       "array(['28', '36', '64', ..., '46', '64', '56'], dtype='<U10')"
      ]
     },
     "execution_count": 5,
     "metadata": {},
     "output_type": "execute_result"
    }
   ],
   "source": [
    "list1 = []\n",
    "for i in ['A', 'B', 'C', 'D', 'E', 'F', 'G']:\n",
    "    for j in ['1', '2', '3', '4', '5']:\n",
    "        list1.append(i+j)\n",
    "list2 = range(70, 0, -2)\n",
    "dic = dict(zip(list1, list2))\n",
    "\n",
    "for i in range(train_X.shape[0]):\n",
    "    train_X[i, 4] = dic[train_X[i, 4]]\n",
    "train_X[:, 4]"
   ]
  },
  {
   "cell_type": "code",
   "execution_count": 6,
   "metadata": {},
   "outputs": [
    {
     "data": {
      "text/plain": [
       "array(['2', '8', '10', ..., '10', '10', '5'], dtype='<U10')"
      ]
     },
     "execution_count": 6,
     "metadata": {},
     "output_type": "execute_result"
    }
   ],
   "source": [
    "import re\n",
    "for i in range(train_X.shape[0]):\n",
    "    train_X[i, 6] = re.findall('\\d+', train_X[i, 6])[0]\n",
    "train_X[:,6]"
   ]
  },
  {
   "cell_type": "code",
   "execution_count": 7,
   "metadata": {},
   "outputs": [
    {
     "data": {
      "text/plain": [
       "array(['2369', '1914', '1974', ..., '1914', '2154', '879'], dtype='<U10')"
      ]
     },
     "execution_count": 7,
     "metadata": {},
     "output_type": "execute_result"
    }
   ],
   "source": [
    "shou = []\n",
    "for i in range(train_X.shape[0]):\n",
    "    b = train_X[i, 10].split('-')\n",
    "    s = [1, 1, 1]\n",
    "    for i in range(len(b)):\n",
    "        s[i] = int(b[i])\n",
    "    num = (2020-int(s[0]))*365 + 30 * (12 - int(s[1])) + 30 - int(s[2])\n",
    "    shou.append(num)\n",
    "shou = np.array(shou)\n",
    "train_X[:, 10] = shou\n",
    "train_X[:, 10]\n"
   ]
  },
  {
   "cell_type": "code",
   "execution_count": 8,
   "metadata": {},
   "outputs": [],
   "source": [
    "train_X = np.delete(train_X, 27, axis=1)"
   ]
  },
  {
   "cell_type": "code",
   "execution_count": 13,
   "metadata": {},
   "outputs": [],
   "source": [
    "\n",
    "train_X = train_X.astype(np.int)"
   ]
  },
  {
   "cell_type": "code",
   "execution_count": 14,
   "metadata": {},
   "outputs": [],
   "source": [
    "np.savetxt('train.csv', train_X, fmt = '%d', delimiter=',')"
   ]
  },
  {
   "cell_type": "markdown",
   "metadata": {},
   "source": [
    "----------------------------------------"
   ]
  }
 ],
 "metadata": {
  "kernelspec": {
   "display_name": "pytorch",
   "language": "python",
   "name": "pytorch"
  },
  "language_info": {
   "codemirror_mode": {
    "name": "ipython",
    "version": 3
   },
   "file_extension": ".py",
   "mimetype": "text/x-python",
   "name": "python",
   "nbconvert_exporter": "python",
   "pygments_lexer": "ipython3",
   "version": "3.6.10"
  }
 },
 "nbformat": 4,
 "nbformat_minor": 4
}
