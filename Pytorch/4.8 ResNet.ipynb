{
 "cells": [
  {
   "cell_type": "code",
   "execution_count": 41,
   "metadata": {},
   "outputs": [],
   "source": [
    "import torch as t\n",
    "import torch.nn.functional as F\n",
    "from torch import nn"
   ]
  },
  {
   "cell_type": "code",
   "execution_count": 42,
   "metadata": {},
   "outputs": [],
   "source": [
    "class ResidualBlock(nn.Module):\n",
    "    def __init__(self, inchannel, outchannel, stride=1, shortcut=None):\n",
    "        super(ResidualBlock, self).__init__()\n",
    "        self.left = nn.Sequential(\n",
    "                                nn.Conv2d(inchannel, outchannel, 3, stride, 1, bias=False),\n",
    "                                nn.BatchNorm2d(outchannel),\n",
    "                                nn.ReLU(inplace=True),\n",
    "                                nn.Conv2d(outchannel, outchannel, 3,1,1,bias=False),\n",
    "                                nn.BatchNorm2d(outchannel))\n",
    "        self.right = shortcut\n",
    "        \n",
    "    def forward(self, x):\n",
    "        out = self.left(x)\n",
    "        residual = x if self.right is None else self.right(x)\n",
    "        out += residual\n",
    "        return F.relu(out)"
   ]
  },
  {
   "cell_type": "code",
   "execution_count": 46,
   "metadata": {},
   "outputs": [],
   "source": [
    "class ResNet(nn.Module):\n",
    "    def __init__(self, num_class = 1000):\n",
    "        super(ResNet, self).__init__()\n",
    "        \n",
    "        self.pre = nn.Sequential(nn.Conv2d(3, 64, 7, 2, 3, bias=False),\n",
    "                                nn.BatchNorm2d(64),\n",
    "                                nn.ReLU(inplace=True),\n",
    "                                nn.MaxPool2d(3, 2, 1))\n",
    "        \n",
    "        self.layer1 = self._make_layer(64, 128, 3)\n",
    "        self.layer2 = self._make_layer(128, 256, 4, stride=2)\n",
    "        self.layer3 = self._make_layer(256, 512, 6, stride=2)\n",
    "        self.layer4 = self._make_layer(512, 512, 3, stride=2)\n",
    "        \n",
    "        self.fc = nn.Linear(512, num_class)\n",
    "        \n",
    "    def _make_layer(self, inchannel, outchannel, block_num, stride=1):\n",
    "        shortcut = nn.Sequential(nn.Conv2d(inchannel, outchannel, 1, stride, bias=False),\n",
    "                                nn.BatchNorm2d(outchannel))\n",
    "        layers = []\n",
    "        layers.append(ResidualBlock(inchannel, outchannel, stride, shortcut))\n",
    "        \n",
    "        for i in range(block_num):\n",
    "            layers.append(ResidualBlock(outchannel, outchannel))\n",
    "            \n",
    "        return nn.Sequential(*layers)\n",
    "    \n",
    "    def forward(self, x):\n",
    "        x = self.pre(x)\n",
    "        x = self.layer1(x)\n",
    "        x = self.layer2(x)\n",
    "        x = self.layer3(x)\n",
    "        x = self.layer4(x)\n",
    "        x = F.avg_pool2d(x, 7)\n",
    "        x = x.view(x.size(0), -1)\n",
    "        return self.fc(x)"
   ]
  },
  {
   "cell_type": "code",
   "execution_count": 47,
   "metadata": {
    "scrolled": true
   },
   "outputs": [],
   "source": [
    "net = ResNet()\n",
    "input = t.autograd.Variable(t.randn(1, 3, 224, 224))\n",
    "out = net(input)"
   ]
  },
  {
   "cell_type": "code",
   "execution_count": 21,
   "metadata": {},
   "outputs": [],
   "source": [
    "class test(nn.Module):\n",
    "    def __init__(self):\n",
    "        super(test, self).__init__()\n",
    "        self.pre = nn.Sequential(nn.Conv2d(3, 64, 7, 2, 3, bias=False),\n",
    "                                nn.BatchNorm2d(64),\n",
    "                                nn.ReLU(inplace=True),\n",
    "                                nn.MaxPool2d(3, 2, 1))\n",
    "    def forward(self, x):\n",
    "        x = self.pre(x)\n",
    "        return x"
   ]
  },
  {
   "cell_type": "code",
   "execution_count": 40,
   "metadata": {},
   "outputs": [
    {
     "data": {
      "text/plain": [
       "torch.Size([1, 128, 224, 224])"
      ]
     },
     "execution_count": 40,
     "metadata": {},
     "output_type": "execute_result"
    }
   ],
   "source": [
    "shortcut = nn.Sequential(nn.Conv2d(64, 128, 1, 1, bias=False),\n",
    "                                nn.BatchNorm2d(128))\n",
    "net2 = ResidualBlock(64, 128,shortcut=shortcut)\n",
    "input2 = t.autograd.Variable(t.randn(1, 64, 224, 224))\n",
    "out2 = net2(input2)\n",
    "out2.data.size()"
   ]
  },
  {
   "cell_type": "code",
   "execution_count": null,
   "metadata": {},
   "outputs": [],
   "source": []
  }
 ],
 "metadata": {
  "kernelspec": {
   "display_name": "pytorch",
   "language": "python",
   "name": "pytorch"
  },
  "language_info": {
   "codemirror_mode": {
    "name": "ipython",
    "version": 3
   },
   "file_extension": ".py",
   "mimetype": "text/x-python",
   "name": "python",
   "nbconvert_exporter": "python",
   "pygments_lexer": "ipython3",
   "version": "3.6.10"
  }
 },
 "nbformat": 4,
 "nbformat_minor": 4
}
