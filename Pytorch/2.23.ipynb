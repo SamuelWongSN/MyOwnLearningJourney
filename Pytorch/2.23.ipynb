{
 "cells": [
  {
   "cell_type": "code",
   "execution_count": 30,
   "metadata": {},
   "outputs": [
    {
     "name": "stdout",
     "output_type": "stream",
     "text": [
      "LeNet(\n",
      "  (conv1): Conv2d(1, 6, kernel_size=(5, 5), stride=(1, 1))\n",
      "  (conv2): Conv2d(6, 16, kernel_size=(5, 5), stride=(1, 1))\n",
      "  (fc1): Linear(in_features=400, out_features=120, bias=True)\n",
      "  (fc2): Linear(in_features=120, out_features=84, bias=True)\n",
      "  (fc3): Linear(in_features=84, out_features=10, bias=True)\n",
      ")\n"
     ]
    }
   ],
   "source": [
    "from torch.autograd import Variable\n",
    "import torch as t\n",
    "import torch.nn as nn\n",
    "import torch.nn.functional as F\n",
    "\n",
    "class LeNet(nn.Module):\n",
    "    \n",
    "    def __init__(self):\n",
    "        # 子类函数必须执行父类函数的构造函数\n",
    "        # 下式等价于nn.Module.__init__(self)\n",
    "        super(LeNet, self).__init__()\n",
    "        # 卷积层‘1’表示输入通道数；‘6’表示输出通道数；‘5’表示卷积核大小：5*5\n",
    "        self.conv1 = nn.Conv2d(1, 6, 5)\n",
    "        self.conv2 = nn.Conv2d(6, 16, 5)\n",
    "        # mapping layer / full-connection layer\n",
    "        self.fc1 = nn.Linear(16*5*5, 120)\n",
    "        self.fc2 = nn.Linear(120, 84)\n",
    "        self.fc3 = nn.Linear(84, 10)\n",
    "        \n",
    "    def forward(self, x):\n",
    "        # 两次 卷积-》激活-》池化\n",
    "        x = F.max_pool2d(F.relu(self.conv1(x)), (2, 2))\n",
    "        x = F.max_pool2d(F.relu(self.conv2(x)), (2, 2))\n",
    "        # resize --> prepare for full-connection\n",
    "        x = x.view(x.size()[0], -1)\n",
    "        # full-connection\n",
    "        x = F.relu(self.fc1(x))\n",
    "        x = F.relu(self.fc2(x))\n",
    "        x = self.fc3(x)\n",
    "        \n",
    "        return x\n",
    "    \n",
    "net = LeNet()\n",
    "print(net)"
   ]
  },
  {
   "cell_type": "code",
   "execution_count": 31,
   "metadata": {},
   "outputs": [
    {
     "name": "stdout",
     "output_type": "stream",
     "text": [
      "10\n"
     ]
    }
   ],
   "source": [
    "params = list(net.parameters())\n",
    "print(len(params))"
   ]
  },
  {
   "cell_type": "code",
   "execution_count": 32,
   "metadata": {},
   "outputs": [
    {
     "name": "stdout",
     "output_type": "stream",
     "text": [
      "conv1.weight : torch.Size([6, 1, 5, 5])\n",
      "conv1.bias : torch.Size([6])\n",
      "conv2.weight : torch.Size([16, 6, 5, 5])\n",
      "conv2.bias : torch.Size([16])\n",
      "fc1.weight : torch.Size([120, 400])\n",
      "fc1.bias : torch.Size([120])\n",
      "fc2.weight : torch.Size([84, 120])\n",
      "fc2.bias : torch.Size([84])\n",
      "fc3.weight : torch.Size([10, 84])\n",
      "fc3.bias : torch.Size([10])\n"
     ]
    }
   ],
   "source": [
    "for name, parameters in net.named_parameters():\n",
    "    print(name, ':', parameters.size())"
   ]
  },
  {
   "cell_type": "code",
   "execution_count": 33,
   "metadata": {},
   "outputs": [
    {
     "data": {
      "text/plain": [
       "torch.Size([1, 10])"
      ]
     },
     "execution_count": 33,
     "metadata": {},
     "output_type": "execute_result"
    }
   ],
   "source": [
    "inpt = Variable(t.randn(1, 1, 32, 32))\n",
    "out = net(inpt)\n",
    "out.size()"
   ]
  },
  {
   "cell_type": "code",
   "execution_count": 34,
   "metadata": {},
   "outputs": [],
   "source": [
    "net.zero_grad()\n",
    "out.backward(Variable(t.ones(1, 10)))"
   ]
  },
  {
   "cell_type": "code",
   "execution_count": 38,
   "metadata": {},
   "outputs": [
    {
     "data": {
      "text/plain": [
       "'torch.FloatTensor'"
      ]
     },
     "execution_count": 38,
     "metadata": {},
     "output_type": "execute_result"
    }
   ],
   "source": [
    "output = net(inpt)\n",
    "target = Variable(t.arange(0, 10)).view(1, -1) # 未进行reshape -》 target Tensor[10] // output Tensor[1, 10]\n",
    "criterion = nn.MSELoss()\n",
    "loss = criterion(output.float(), target.float())\n",
    "\n",
    "loss.type()"
   ]
  },
  {
   "cell_type": "code",
   "execution_count": 39,
   "metadata": {},
   "outputs": [
    {
     "name": "stdout",
     "output_type": "stream",
     "text": [
      "before backward:\n",
      "tensor([0., 0., 0., 0., 0., 0.])\n",
      "after backward:\n",
      "tensor([ 7.0251e-03, -1.3783e-01, -7.9113e-02,  9.6136e-02, -7.5621e-02,\n",
      "         7.1959e-05])\n"
     ]
    }
   ],
   "source": [
    "# 运行 backward 函数 观察 grad\n",
    "net.zero_grad()\n",
    "print('before backward:')\n",
    "print(net.conv1.bias.grad)\n",
    "loss.backward()\n",
    "print('after backward:')\n",
    "print(net.conv1.bias.grad)"
   ]
  },
  {
   "cell_type": "code",
   "execution_count": 40,
   "metadata": {},
   "outputs": [],
   "source": [
    "import torch.optim as optim\n",
    "# 新建一个优化器并指定需要调整的参数以及学习率\n",
    "optimizer = optim.SGD(net.parameters(), lr = 0.01)\n",
    "\n",
    "# 在训练过程中 \n",
    "# 首先梯度清零 与 net.zero_grad() 效果一样\n",
    "optimizer.zero_grad()\n",
    "\n",
    "# compute loss\n",
    "output = net(inpt)\n",
    "loss = criterion(output.float(), target.float())\n",
    "\n",
    "# backward\n",
    "loss.backward()\n",
    "\n",
    "# update parameters\n",
    "optimizer.step()"
   ]
  },
  {
   "cell_type": "code",
   "execution_count": 63,
   "metadata": {},
   "outputs": [
    {
     "name": "stdout",
     "output_type": "stream",
     "text": [
      "tensor([7.0069, 7.2387, 6.4022, 3.8328, 6.1075, 8.8233])\n",
      "tensor([-1.4635, -1.7885, -1.4312, -0.9535, -1.4853, -2.2087]) tensor(18.4265, grad_fn=<MseLossBackward>)\n"
     ]
    }
   ],
   "source": [
    "print(net.conv1.bias.grad)\n",
    "optimizer.zero_grad()\n",
    "\n",
    "# compute loss\n",
    "output = net(inpt)\n",
    "loss = criterion(output.float(), target.float())\n",
    "\n",
    "# backward\n",
    "loss.backward()\n",
    "\n",
    "# update parameters\n",
    "optimizer.step()\n",
    "\n",
    "print(net.conv1.bias.grad, loss)"
   ]
  },
  {
   "cell_type": "code",
   "execution_count": null,
   "metadata": {},
   "outputs": [],
   "source": []
  },
  {
   "cell_type": "code",
   "execution_count": null,
   "metadata": {},
   "outputs": [],
   "source": []
  }
 ],
 "metadata": {
  "kernelspec": {
   "display_name": "pytorch",
   "language": "python",
   "name": "pytorch"
  },
  "language_info": {
   "codemirror_mode": {
    "name": "ipython",
    "version": 3
   },
   "file_extension": ".py",
   "mimetype": "text/x-python",
   "name": "python",
   "nbconvert_exporter": "python",
   "pygments_lexer": "ipython3",
   "version": "3.6.10"
  }
 },
 "nbformat": 4,
 "nbformat_minor": 4
}
