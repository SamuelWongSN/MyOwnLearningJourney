{
 "cells": [
  {
   "cell_type": "code",
   "execution_count": 1,
   "metadata": {},
   "outputs": [],
   "source": [
    "\n",
    "import cv2\n",
    "import numpy as np\n",
    "import math\n"
   ]
  },
  {
   "cell_type": "code",
   "execution_count": 2,
   "metadata": {},
   "outputs": [],
   "source": [
    "def psnr(img1, img2):\n",
    "   mse = np.mean( (img1/255. - img2/255.) ** 2 )\n",
    "   if mse < 1.0e-10:\n",
    "      return 100\n",
    "   PIXEL_MAX = 1\n",
    "   return 20 * math.log10(PIXEL_MAX / math.sqrt(mse))"
   ]
  },
  {
   "cell_type": "code",
   "execution_count": 6,
   "metadata": {},
   "outputs": [
    {
     "name": "stdout",
     "output_type": "stream",
     "text": [
      "21.705631896320455\n",
      "19.75771868314803\n"
     ]
    }
   ],
   "source": [
    "img = cv2.imread('/media/sinong/DATA/data/archive/Set14/Set14_m6/img0.png')\n",
    "srcnn = cv2.imread('/media/sinong/DATA/data/archive/SRCNN_predict/Set14/img0.png')\n",
    "lr = cv2.imread('/media/sinong/DATA/data/archive/Set14/Set14_lrx4_m6/img0.png')\n",
    "\n",
    "print(psnr(img, srcnn))\n",
    "print(psnr(img, lr))"
   ]
  },
  {
   "cell_type": "code",
   "execution_count": null,
   "metadata": {},
   "outputs": [],
   "source": []
  }
 ],
 "metadata": {
  "kernelspec": {
   "display_name": "pytorch",
   "language": "python",
   "name": "pytorch"
  },
  "language_info": {
   "codemirror_mode": {
    "name": "ipython",
    "version": 3
   },
   "file_extension": ".py",
   "mimetype": "text/x-python",
   "name": "python",
   "nbconvert_exporter": "python",
   "pygments_lexer": "ipython3",
   "version": "3.6.12"
  }
 },
 "nbformat": 4,
 "nbformat_minor": 4
}
