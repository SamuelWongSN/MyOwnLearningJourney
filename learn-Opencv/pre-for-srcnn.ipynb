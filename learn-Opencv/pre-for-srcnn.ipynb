{
 "cells": [
  {
   "cell_type": "code",
   "execution_count": 1,
   "metadata": {},
   "outputs": [],
   "source": [
    "import cv2\n",
    "import os\n",
    "import numpy as np"
   ]
  },
  {
   "cell_type": "code",
   "execution_count": 2,
   "metadata": {},
   "outputs": [],
   "source": [
    "\n",
    "def chop_middle(original_picfolder_path, target_folder_path, chop_size, mode=1, stride=14):\n",
    "    '''截取图片部分''' \n",
    "    # original_picfolder_path = 'D:\\\\data\\\\archive\\\\Set14\\\\Set14' # 原始图片所在文件夹\n",
    "    # target_folder_path = 'D:\\data\\archive\\Set14\\set14_hr128' # 截取好的图片放置文件夹\n",
    "    # chop_size = 128 # 截取部分大小\n",
    "\n",
    "    imgs = os.listdir(original_picfolder_path)\n",
    "    imglist = [os.path.join(original_picfolder_path, x) for x in imgs]\n",
    "    index = 0\n",
    "    chop_size_m = chop_size // 2\n",
    "\n",
    "    for img in imglist:\n",
    "        img = cv2.imread(img)\n",
    "        height, weight = img.shape[:2]\n",
    "        \n",
    "        if mode == 1: # 截取图片中间\n",
    "            height_m, weight_m = height // 2, weight // 2\n",
    "\n",
    "            if height_m >= chop_size_m and weight_m >= chop_size_m:\n",
    "                name = target_folder_path + '\\\\img' + str(index) + '.png'\n",
    "                chop = img[(height_m-chop_size_m):(height_m+chop_size_m), (weight_m-chop_size_m):(weight_m+chop_size_m)]\n",
    "                cv2.imwrite(name, chop)\n",
    "                index += 1\n",
    "                \n",
    "        if mode == 2: # 截图所有\n",
    "            h_num = height // chop_size\n",
    "            w_num = weight // chop_size\n",
    "            \n",
    "            if h_num and w_num:\n",
    "                for i in range(h_num):\n",
    "                    for j in range(w_num):\n",
    "                        chop = img[i*chop_size:(i+1)*chop_size, j*chop_size:(j+1)*chop_size]\n",
    "                        name = target_folder_path + '\\\\img' + str(index) + '.png'\n",
    "                        cv2.imwrite(name, chop)\n",
    "                        index += 1\n",
    "        if mode == 3: # 剪掉边边\n",
    "            chop = img[6:height-6, 6:weight-6]\n",
    "            name = target_folder_path + '\\\\img' + str(index) + '.png'\n",
    "            cv2.imwrite(name, chop)\n",
    "            index += 1\n",
    "            \n",
    "        if mode == 4:\n",
    "            h_end = chop_size\n",
    "            h_begin = 0\n",
    "            \n",
    "            while h_end<=height:\n",
    "                w_begin = 0\n",
    "                w_end = chop_size\n",
    "                while w_end<=weight:\n",
    "                    chop = img[h_begin:h_end, w_begin:w_end]\n",
    "                    name = target_folder_path + '\\\\img' + str(index) + '.png'\n",
    "                    cv2.imwrite(name, chop)\n",
    "                    \n",
    "                    w_begin += stride\n",
    "                    w_end += stride\n",
    "                    index += 1\n",
    "                h_begin += stride\n",
    "                h_end += stride"
   ]
  },
  {
   "cell_type": "code",
   "execution_count": 3,
   "metadata": {},
   "outputs": [],
   "source": [
    "def ext(pv):\n",
    "    if pv > 255:\n",
    "        return 255\n",
    "    if pv < 0:\n",
    "        return 0\n",
    "    else:\n",
    "        return pv\n",
    "\n",
    "# 高斯噪点的生成\n",
    "def gauss_noise(image):\n",
    "    h, w, ch = image.shape\n",
    "    for row in range(h):\n",
    "        for col in range(w):\n",
    "        \n",
    "        \t# numpy.random.normal(loc, scale, size)生成高斯分布的概率密度随机数\n",
    "        \t# loc：float代表生成的高斯分布的随机数的均值\n",
    "        \t# scale：float 代表这个分布的方差\n",
    "        \t# size：int or tuple of ints 输出的shape，默认为None，只输出一个值 \n",
    "        \t# 当指定整数时，输出整数个值，也可以输出（a, b）→ a 行 b 列\n",
    "            s = np.random.normal(0, 10, 3)\n",
    "            # 去除每一个像素的三个通道值\n",
    "            b = image[row, col, 0]\n",
    "            g = image[row, col, 1]\n",
    "            r = image[row, col, 2]\n",
    "            # 在每一个像素的三个通道值上加上高斯噪声\n",
    "            image[row, col, 0] = ext(b + s[0])\n",
    "            image[row, col, 1] = ext(g + s[1])\n",
    "            image[row, col, 2] = ext(r + s[2])"
   ]
  },
  {
   "cell_type": "code",
   "execution_count": 4,
   "metadata": {},
   "outputs": [],
   "source": [
    "def make_lr(original_picfolder_path, target_folder_path, times=2):\n",
    "    '''使用bicuic生成lr图片'''\n",
    "    \n",
    "    imgs = os.listdir(original_picfolder_path)\n",
    "    imglist = [os.path.join(original_picfolder_path, x) for x in imgs]\n",
    "    index = 0\n",
    "    for path in imglist:\n",
    "        img = cv2.imread(path)\n",
    "        # gauss_noise(img)\n",
    "        h, w = img.shape[:2]\n",
    "        img_lr = cv2.resize(img, (w//times, h//times))\n",
    "        img_l2h = cv2.resize(img_lr, (w, h), interpolation=cv2.INTER_CUBIC)\n",
    "        name = target_folder_path + '\\\\img' + str(index) + '.png'\n",
    "        cv2.imwrite(name, img_l2h)\n",
    "        index += 1"
   ]
  },
  {
   "cell_type": "code",
   "execution_count": 5,
   "metadata": {},
   "outputs": [],
   "source": [
    "oripath = 'D:\\\\data\\\\archive\\\\T91'\n",
    "hr_path = 'D:\\\\data\\\\archive\\\\train\\\\t91'\n",
    "hr6_path = 'D:\\\\data\\\\archive\\\\train\\\\t916'\n",
    "lr_path = 'D:\\\\data\\\\archive\\\\train\\\\tl'\n",
    "\n",
    "chop_middle(oripath, hr_path, 32, mode=4)\n",
    "chop_middle(hr_path, hr6_path, 32, mode=3)\n",
    "make_lr(hr_path, lr_path, times=2)\n"
   ]
  },
  {
   "cell_type": "code",
   "execution_count": 19,
   "metadata": {
    "scrolled": true
   },
   "outputs": [],
   "source": [
    "chop_middle('D:\\\\data\\\\archive\\\\Set14\\\\set14_lr128', 'D:\\\\data\\\\archive\\\\Set14\\\\compare',chop_size=128, mode=3)"
   ]
  },
  {
   "cell_type": "code",
   "execution_count": 20,
   "metadata": {},
   "outputs": [],
   "source": [
    "make_lr('D:\\\\data\\\\archive\\\\Set14\\\\Set14', 'D:\\\\data\\\\archive\\\\Set14\\\\set14_lr128', times=2)"
   ]
  },
  {
   "cell_type": "code",
   "execution_count": 21,
   "metadata": {},
   "outputs": [],
   "source": [
    "make_lr('D:\\\\data\\\\archive\\\\train\\\\t91', 'D:\\\\data\\\\archive\\\\train\\\\tl', times=2)"
   ]
  },
  {
   "cell_type": "code",
   "execution_count": null,
   "metadata": {},
   "outputs": [],
   "source": []
  }
 ],
 "metadata": {
  "kernelspec": {
   "display_name": "pytorch",
   "language": "python",
   "name": "pytorch"
  },
  "language_info": {
   "codemirror_mode": {
    "name": "ipython",
    "version": 3
   },
   "file_extension": ".py",
   "mimetype": "text/x-python",
   "name": "python",
   "nbconvert_exporter": "python",
   "pygments_lexer": "ipython3",
   "version": "3.6.10"
  }
 },
 "nbformat": 4,
 "nbformat_minor": 4
}
