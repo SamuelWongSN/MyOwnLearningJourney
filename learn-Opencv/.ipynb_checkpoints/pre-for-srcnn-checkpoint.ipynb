{
 "cells": [
  {
   "cell_type": "code",
   "execution_count": 1,
   "metadata": {},
   "outputs": [],
   "source": [
    "import cv2\n",
    "import os\n",
    "import numpy as np"
   ]
  },
  {
   "cell_type": "code",
   "execution_count": 19,
   "metadata": {},
   "outputs": [
    {
     "data": {
      "text/plain": [
       "(100, 100, 3)"
      ]
     },
     "execution_count": 19,
     "metadata": {},
     "output_type": "execute_result"
    }
   ],
   "source": [
    "img = cv2.imread('test.jpg')\n",
    "img_lr = cv2.resize(img, (50, 50))\n",
    "img_l2h = cv2.resize(img_lr, (100, 100), interpolation=cv2.INTER_CUBIC)\n",
    "cv2.imwrite('img_lr.jpg', img_lr)\n",
    "cv2.imwrite('img_l2h.jpg', img_l2h[0:10, 0:50])\n",
    "img.shape"
   ]
  },
  {
   "cell_type": "code",
   "execution_count": 16,
   "metadata": {},
   "outputs": [],
   "source": [
    "root = 'D:\\\\data\\\\archive\\\\T91\\\\'\n",
    "imgs = os.listdir(root)\n",
    "imglist = [root + x for x in imgs]\n",
    "# print(imglist)\n",
    "index = 0\n",
    "for imgpath in imglist:\n",
    "    img = cv2.imread(imgpath)\n",
    "    h, w = img.shape[:2]\n",
    "    h_num = h // 80\n",
    "    w_num = w // 80\n",
    "    for i in range(h_num):\n",
    "        for j in range(w_num):\n",
    "            if index < 500:\n",
    "                name = 'D:\\\\data\\\\archive\\\\train\\\\img' + str(index) + '.png'\n",
    "            else:\n",
    "                name = 'D:\\\\data\\\\archive\\\\test\\\\img' + str(index) + '.png'\n",
    "            cv2.imwrite(name, img[i*80:(i+1)*80, j*80:(j+1)*80])\n",
    "            index += 1"
   ]
  },
  {
   "cell_type": "code",
   "execution_count": 7,
   "metadata": {},
   "outputs": [],
   "source": [
    "root = 'D:\\\\data\\\\archive\\\\train\\\\hr\\\\'\n",
    "\n",
    "imgs = os.listdir(root)\n",
    "imglist = [root + x for x in imgs]\n",
    "for path in imglist:\n",
    "    img = cv2.imread(path)\n",
    "    img = img[6:-6, 6:-6]\n",
    "    name = 'D:\\\\data\\\\archive\\\\train\\\\hr6\\\\' + path[25:]\n",
    "    cv2.imwrite(name, img)"
   ]
  },
  {
   "cell_type": "code",
   "execution_count": 8,
   "metadata": {},
   "outputs": [],
   "source": [
    "root = 'D:\\\\data\\\\archive\\\\test\\\\hr\\\\'\n",
    "\n",
    "imgs = os.listdir(root)\n",
    "imglist = [root + x for x in imgs]\n",
    "for path in imglist:\n",
    "    img = cv2.imread(path)\n",
    "    img_lr = cv2.resize(img, (40, 40))\n",
    "    img_l2h = cv2.resize(img_lr, (80, 80), interpolation=cv2.INTER_CUBIC)\n",
    "    name = 'D:\\\\data\\\\archive\\\\test\\\\lr\\\\' + path[24:]\n",
    "    cv2.imwrite(name, img_l2h)"
   ]
  },
  {
   "cell_type": "code",
   "execution_count": 9,
   "metadata": {},
   "outputs": [],
   "source": [
    "root = 'D:\\\\data\\\\archive\\\\train\\\\hr\\\\'\n",
    "\n",
    "imgs = os.listdir(root)\n",
    "imglist = [root + x for x in imgs]\n",
    "for path in imglist:\n",
    "    img = cv2.imread(path)\n",
    "    img_lr = cv2.resize(img, (40, 40))\n",
    "    img_l2h = cv2.resize(img_lr, (80, 80), interpolation=cv2.INTER_CUBIC)\n",
    "    name = 'D:\\\\data\\\\archive\\\\train\\\\lr\\\\' + path[24:]\n",
    "    cv2.imwrite(name, img_l2h)"
   ]
  },
  {
   "cell_type": "code",
   "execution_count": null,
   "metadata": {},
   "outputs": [],
   "source": []
  }
 ],
 "metadata": {
  "kernelspec": {
   "display_name": "pytorch",
   "language": "python",
   "name": "pytorch"
  },
  "language_info": {
   "codemirror_mode": {
    "name": "ipython",
    "version": 3
   },
   "file_extension": ".py",
   "mimetype": "text/x-python",
   "name": "python",
   "nbconvert_exporter": "python",
   "pygments_lexer": "ipython3",
   "version": "3.6.10"
  }
 },
 "nbformat": 4,
 "nbformat_minor": 4
}
