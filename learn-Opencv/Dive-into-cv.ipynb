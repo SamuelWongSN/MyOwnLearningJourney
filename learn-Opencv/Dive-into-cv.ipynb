{
 "cells": [
  {
   "cell_type": "code",
   "execution_count": 1,
   "metadata": {},
   "outputs": [],
   "source": [
    "import numpy as np\n",
    "import cv2\n",
    "import matplotlib.pyplot as plt"
   ]
  },
  {
   "cell_type": "markdown",
   "metadata": {},
   "source": [
    "cv2 默认使用 BGR 的颜色方案\n",
    "（255， 0， 0）→ BLUE\n",
    "（0， 255， 0）→ GREEN\n",
    "（0， 0， 255）→ RED"
   ]
  },
  {
   "cell_type": "code",
   "execution_count": 2,
   "metadata": {},
   "outputs": [
    {
     "data": {
      "text/plain": [
       "True"
      ]
     },
     "execution_count": 2,
     "metadata": {},
     "output_type": "execute_result"
    }
   ],
   "source": [
    "img = np.array([\n",
    "    [[255, 0, 0], [0, 255, 0], [0, 0, 255]],\n",
    "    [[255, 255, 0], [255, 0, 255], [0, 255, 255]],\n",
    "    [[255, 255, 255], [128, 128, 128], [0, 0, 0]],\n",
    "], dtype=np.uint8)\n",
    "\n",
    "# 使用 matplotlib 储存\n",
    "plt.imsave('img_plt.jpg', img)\n",
    "\n",
    "# 使用 cv 储存\n",
    "cv2.imwrite('img_cv2.jpg', img)\n"
   ]
  },
  {
   "cell_type": "code",
   "execution_count": 3,
   "metadata": {},
   "outputs": [
    {
     "name": "stdout",
     "output_type": "stream",
     "text": [
      "(100, 100, 3)\n",
      "(100, 100)\n",
      "(100, 100, 3)\n"
     ]
    },
    {
     "data": {
      "text/plain": [
       "True"
      ]
     },
     "execution_count": 3,
     "metadata": {},
     "output_type": "execute_result"
    }
   ],
   "source": [
    "img = cv2.imread('test.jpg')\n",
    "print(img.shape)\n",
    "gray_img = cv2.imread('test.jpg', cv2.IMREAD_GRAYSCALE)\n",
    "print(gray_img.shape)\n",
    "\n",
    "# 单通道图片默认保存的时候，复制到三个通道\n",
    "cv2.imwrite('gray_img.jpg', gray_img)\n",
    "reload_gray = cv2.imread('gray_img.jpg')\n",
    "print(reload_gray.shape)\n",
    "\n",
    "# 保存的时候可以控制质量\n",
    "# jpg （0-100）\n",
    "cv2.imwrite('test_qs.jpg', img, (cv2.IMWRITE_JPEG_QUALITY, 80))\n",
    "# png (0-9)\n",
    "cv2.imwrite('test_qs.jpg', img, (cv2.IMWRITE_PNG_COMPRESSION, 3))"
   ]
  },
  {
   "cell_type": "code",
   "execution_count": 4,
   "metadata": {},
   "outputs": [
    {
     "data": {
      "text/plain": [
       "True"
      ]
     },
     "execution_count": 4,
     "metadata": {},
     "output_type": "execute_result"
    }
   ],
   "source": [
    "# 通过cv2.cvtColor把图像从BGR转换到HSV\n",
    "img_hsv = cv2.cvtColor(img, cv2.COLOR_BGR2HSV)\n",
    "\n",
    "# H空间中，绿色比黄色的值高一点，所以给每个像素+15，黄色的树叶就会变绿\n",
    "turn_green_hsv = img_hsv.copy()\n",
    "turn_green_hsv[:, :, 0] = (turn_green_hsv[:, :, 0]+15) % 180\n",
    "turn_green_img = cv2.cvtColor(turn_green_hsv, cv2.COLOR_HSV2BGR)\n",
    "cv2.imwrite('turn_green.jpg', turn_green_img)\n",
    "\n",
    "# 减小饱和度会让图像损失鲜艳，变得更灰\n",
    "colorless_hsv = img_hsv.copy()\n",
    "colorless_hsv[:, :, 1] = 0.5 * colorless_hsv[:, :, 1]\n",
    "colorless_img = cv2.cvtColor(colorless_hsv, cv2.COLOR_HSV2BGR)\n",
    "cv2.imwrite('colorless.jpg', colorless_img)\n",
    "\n",
    "# 减小明度为原来一半\n",
    "darker_hsv = img_hsv.copy()\n",
    "darker_hsv[:, :, 2] = 0.5 * darker_hsv[:, :, 2]\n",
    "darker_img = cv2.cvtColor(darker_hsv, cv2.COLOR_HSV2BGR)\n",
    "cv2.imwrite('darker.jpg', darker_img)"
   ]
  },
  {
   "cell_type": "code",
   "execution_count": 5,
   "metadata": {},
   "outputs": [
    {
     "data": {
      "text/plain": [
       "\"\\nimport matplotlib.pyplot as plt\\nfrom mpl_toolkits.mplot3d import Axes3D\\n\\nfig = plt.figure()\\n\\npix_hists = [\\n    [hist_b, hist_g, hist_r],\\n    [hist_b_corrected, hist_g_corrected, hist_r_corrected]\\n]\\n\\npix_vals = range(256)\\nfor sub_plt, pix_hist in zip([121, 122], pix_hists):\\n    ax = fig.add_subplot(sub_plt, projection='3d')\\n    for c, z, channel_hist in zip(['b', 'g', 'r'], [20, 10, 0], pix_hist):\\n        cs = [c] * 256\\n        ax.bar(pix_vals, channel_hist, zs=z, zdir='y', color=cs, alpha=0.618, edgecolor='none', lw=0)\\n\\n    ax.set_xlabel('Pixel Values')\\n    ax.set_xlim([0, 256])\\n    ax.set_ylabel('Channels')\\n    ax.set_zlabel('Counts')\\n\\nplt.show()\\n\""
      ]
     },
     "execution_count": 5,
     "metadata": {},
     "output_type": "execute_result"
    }
   ],
   "source": [
    "# 分通道计算每个通道的直方图\n",
    "hist_b = cv2.calcHist([img], [0], None, [256], [0, 256])\n",
    "hist_g = cv2.calcHist([img], [1], None, [256], [0, 256])\n",
    "hist_r = cv2.calcHist([img], [2], None, [256], [0, 256])\n",
    "\n",
    "# 定义Gamma矫正的函数\n",
    "def gamma_trans(img, gamma):\n",
    "    # 具体做法是先归一化到1，然后gamma作为指数值求出新的像素值再还原\n",
    "    gamma_table = [np.power(x/255.0, gamma)*255.0 for x in range(256)]\n",
    "    gamma_table = np.round(np.array(gamma_table)).astype(np.uint8)\n",
    "    \n",
    "    # 实现这个映射用的是OpenCV的查表函数\n",
    "    return cv2.LUT(img, gamma_table)\n",
    "\n",
    "# 执行Gamma矫正，小于1的值让暗部细节大量提升，同时亮部细节少量提升\n",
    "img_corrected = gamma_trans(img, 0.5)\n",
    "cv2.imwrite('gamma_corrected.jpg', img_corrected)\n",
    "\n",
    "# 分通道计算Gamma矫正后的直方图\n",
    "hist_b_corrected = cv2.calcHist([img_corrected], [0], None, [256], [0, 256])\n",
    "hist_g_corrected = cv2.calcHist([img_corrected], [1], None, [256], [0, 256])\n",
    "hist_r_corrected = cv2.calcHist([img_corrected], [2], None, [256], [0, 256])\n",
    "\n",
    "# 将直方图进行可视化\n",
    "'''\n",
    "import matplotlib.pyplot as plt\n",
    "from mpl_toolkits.mplot3d import Axes3D\n",
    "\n",
    "fig = plt.figure()\n",
    "\n",
    "pix_hists = [\n",
    "    [hist_b, hist_g, hist_r],\n",
    "    [hist_b_corrected, hist_g_corrected, hist_r_corrected]\n",
    "]\n",
    "\n",
    "pix_vals = range(256)\n",
    "for sub_plt, pix_hist in zip([121, 122], pix_hists):\n",
    "    ax = fig.add_subplot(sub_plt, projection='3d')\n",
    "    for c, z, channel_hist in zip(['b', 'g', 'r'], [20, 10, 0], pix_hist):\n",
    "        cs = [c] * 256\n",
    "        ax.bar(pix_vals, channel_hist, zs=z, zdir='y', color=cs, alpha=0.618, edgecolor='none', lw=0)\n",
    "\n",
    "    ax.set_xlabel('Pixel Values')\n",
    "    ax.set_xlim([0, 256])\n",
    "    ax.set_ylabel('Channels')\n",
    "    ax.set_zlabel('Counts')\n",
    "\n",
    "plt.show()\n",
    "'''"
   ]
  },
  {
   "cell_type": "code",
   "execution_count": 9,
   "metadata": {},
   "outputs": [
    {
     "data": {
      "text/plain": [
       "True"
      ]
     },
     "execution_count": 9,
     "metadata": {},
     "output_type": "execute_result"
    }
   ],
   "source": [
    "# 沿着横纵轴放大1.6倍，然后平移(-150,-240)，最后沿原图大小截取，等效于裁剪并放大\n",
    "img = cv2.imread('test.jpg')\n",
    "M = np.array([[1.6, 0, -50],\n",
    "             [0, 1.6, -40]],dtype=np.float32)\n",
    "img_affine = cv2.warpAffine(img, M, (100, 100))\n",
    "cv2.imwrite('img_affine.jpg', img_affine)"
   ]
  },
  {
   "cell_type": "code",
   "execution_count": 11,
   "metadata": {},
   "outputs": [
    {
     "data": {
      "text/plain": [
       "True"
      ]
     },
     "execution_count": 11,
     "metadata": {},
     "output_type": "execute_result"
    }
   ],
   "source": [
    "# x轴的剪切变换，角度15°\n",
    "theta = 15 * np.pi / 180\n",
    "M_shear = np.array([\n",
    "    [1, np.tan(theta), 0],\n",
    "    [0, 1, 0]\n",
    "], dtype=np.float32)\n",
    "\n",
    "img_sheared = cv2.warpAffine(img, M_shear, (100, 100))\n",
    "cv2.imwrite('img_sheared.jpg', img_sheared)"
   ]
  },
  {
   "cell_type": "code",
   "execution_count": 12,
   "metadata": {},
   "outputs": [
    {
     "data": {
      "text/plain": [
       "True"
      ]
     },
     "execution_count": 12,
     "metadata": {},
     "output_type": "execute_result"
    }
   ],
   "source": [
    "# 顺时针旋转，角度15°\n",
    "M_rotate = np.array([\n",
    "    [np.cos(theta), -np.sin(theta), 0],\n",
    "    [np.sin(theta), np.cos(theta), 0]\n",
    "], dtype=np.float32)\n",
    "\n",
    "img_rotated = cv2.warpAffine(img, M_rotate, (100, 100))\n",
    "cv2.imwrite('img_rotated.jpg', img_rotated)"
   ]
  },
  {
   "cell_type": "code",
   "execution_count": 13,
   "metadata": {},
   "outputs": [
    {
     "data": {
      "text/plain": [
       "True"
      ]
     },
     "execution_count": 13,
     "metadata": {},
     "output_type": "execute_result"
    }
   ],
   "source": [
    "# 某种变换，具体旋转+缩放+旋转组合可以通过SVD分解理解\n",
    "M = np.array([\n",
    "    [1, 1.5, -400],\n",
    "    [0.5, 2, -100]\n",
    "], dtype=np.float32)\n",
    "\n",
    "img_transformed = cv2.warpAffine(img, M, (100, 100))\n",
    "cv2.imwrite('img_transformed.jpg', img_transformed)"
   ]
  },
  {
   "cell_type": "code",
   "execution_count": null,
   "metadata": {},
   "outputs": [],
   "source": []
  }
 ],
 "metadata": {
  "kernelspec": {
   "display_name": "pytorch",
   "language": "python",
   "name": "pytorch"
  },
  "language_info": {
   "codemirror_mode": {
    "name": "ipython",
    "version": 3
   },
   "file_extension": ".py",
   "mimetype": "text/x-python",
   "name": "python",
   "nbconvert_exporter": "python",
   "pygments_lexer": "ipython3",
   "version": "3.6.10"
  }
 },
 "nbformat": 4,
 "nbformat_minor": 4
}
